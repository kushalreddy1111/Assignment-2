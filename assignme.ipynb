{
 "cells": [
  {
   "cell_type": "code",
   "execution_count": 23,
   "metadata": {},
   "outputs": [],
   "source": [
    "import pandas as pd\n",
    "from cassandra.cluster import Cluster"
   ]
  },
  {
   "cell_type": "code",
   "execution_count": 24,
   "metadata": {},
   "outputs": [],
   "source": [
    "clstr = Cluster()\n",
    "session = clstr.connect()"
   ]
  },
  {
   "cell_type": "code",
   "execution_count": 25,
   "metadata": {},
   "outputs": [
    {
     "data": {
      "text/plain": [
       "<cassandra.cluster.ResultSet at 0x7f70501e0290>"
      ]
     },
     "execution_count": 25,
     "metadata": {},
     "output_type": "execute_result"
    }
   ],
   "source": [
    "session.execute(\"DROP KEYSPACE IF EXISTS m14\")"
   ]
  },
  {
   "cell_type": "code",
   "execution_count": 26,
   "metadata": {},
   "outputs": [
    {
     "name": "stdout",
     "output_type": "stream",
     "text": [
      "system\n",
      "system_auth\n",
      "system_distributed\n",
      "system_schema\n",
      "system_traces\n",
      "system_views\n",
      "system_virtual_schema\n",
      "w04python\n"
     ]
    }
   ],
   "source": [
    "rows = session.execute(\"desc keyspaces\")\n",
    "for row in rows:\n",
    "    print(f\"{row[0]}\")"
   ]
  },
  {
   "cell_type": "code",
   "execution_count": 27,
   "metadata": {},
   "outputs": [
    {
     "data": {
      "text/plain": [
       "<cassandra.cluster.ResultSet at 0x7f706870ce10>"
      ]
     },
     "execution_count": 27,
     "metadata": {},
     "output_type": "execute_result"
    }
   ],
   "source": [
    "session.execute(\"CREATE KEYSPACE IF NOT EXISTS m14 WITH REPLICATION = {'class':'SimpleStrategy', 'replication_factor':2}\")"
   ]
  },
  {
   "cell_type": "code",
   "execution_count": 28,
   "metadata": {},
   "outputs": [
    {
     "name": "stdout",
     "output_type": "stream",
     "text": [
      "m14\n",
      "system\n",
      "system_auth\n",
      "system_distributed\n",
      "system_schema\n",
      "system_traces\n",
      "system_views\n",
      "system_virtual_schema\n",
      "w04python\n"
     ]
    }
   ],
   "source": [
    "rows = session.execute(\"desc keyspaces\")\n",
    "for row in rows:\n",
    "    print(f\"{row[0]}\")"
   ]
  },
  {
   "cell_type": "code",
   "execution_count": 29,
   "metadata": {},
   "outputs": [
    {
     "data": {
      "text/plain": [
       "<cassandra.cluster.ResultSet at 0x7f7034ef0610>"
      ]
     },
     "execution_count": 29,
     "metadata": {},
     "output_type": "execute_result"
    }
   ],
   "source": [
    "session.execute(\"\"\"\n",
    "CREATE TABLE IF NOT EXISTS m14.inventory ( \n",
    "    sku VARCHAR, \n",
    "    name TEXT, \n",
    "    l_name TEXT, \n",
    "    description TEXT,\n",
    "    warehouse_num FLOAT, \n",
    "    PRIMARY KEY(sku, name)\n",
    ");\n",
    "\"\"\")"
   ]
  },
  {
   "cell_type": "code",
   "execution_count": 30,
   "metadata": {},
   "outputs": [
    {
     "data": {
      "text/html": [
       "<div>\n",
       "<style scoped>\n",
       "    .dataframe tbody tr th:only-of-type {\n",
       "        vertical-align: middle;\n",
       "    }\n",
       "\n",
       "    .dataframe tbody tr th {\n",
       "        vertical-align: top;\n",
       "    }\n",
       "\n",
       "    .dataframe thead th {\n",
       "        text-align: right;\n",
       "    }\n",
       "</style>\n",
       "<table border=\"1\" class=\"dataframe\">\n",
       "  <thead>\n",
       "    <tr style=\"text-align: right;\">\n",
       "      <th></th>\n",
       "      <th>sku</th>\n",
       "      <th>name</th>\n",
       "      <th>description</th>\n",
       "      <th>warehouse_num</th>\n",
       "    </tr>\n",
       "  </thead>\n",
       "  <tbody>\n",
       "    <tr>\n",
       "      <th>0</th>\n",
       "      <td>'AB11'</td>\n",
       "      <td>'Toys'</td>\n",
       "      <td>'This is used to play'</td>\n",
       "      <td>12342</td>\n",
       "    </tr>\n",
       "    <tr>\n",
       "      <th>1</th>\n",
       "      <td>'AB12'</td>\n",
       "      <td>'Phones'</td>\n",
       "      <td>'This is used to play'</td>\n",
       "      <td>24682</td>\n",
       "    </tr>\n",
       "    <tr>\n",
       "      <th>2</th>\n",
       "      <td>'AB13'</td>\n",
       "      <td>'Chocolates'</td>\n",
       "      <td>'This is used to playliams'</td>\n",
       "      <td>13456</td>\n",
       "    </tr>\n",
       "    <tr>\n",
       "      <th>3</th>\n",
       "      <td>'AB14'</td>\n",
       "      <td>'Candies'</td>\n",
       "      <td>'This is used to play'</td>\n",
       "      <td>27678</td>\n",
       "    </tr>\n",
       "    <tr>\n",
       "      <th>4</th>\n",
       "      <td>'AB15'</td>\n",
       "      <td>'Books'</td>\n",
       "      <td>'This is used to play'</td>\n",
       "      <td>24682</td>\n",
       "    </tr>\n",
       "    <tr>\n",
       "      <th>5</th>\n",
       "      <td>'AB16'</td>\n",
       "      <td>'Pens'</td>\n",
       "      <td>'This is used to play'</td>\n",
       "      <td>12342</td>\n",
       "    </tr>\n",
       "    <tr>\n",
       "      <th>6</th>\n",
       "      <td>'AB17'</td>\n",
       "      <td>'plastics'</td>\n",
       "      <td>'This is used to play'</td>\n",
       "      <td>12342</td>\n",
       "    </tr>\n",
       "  </tbody>\n",
       "</table>\n",
       "</div>"
      ],
      "text/plain": [
       "      sku          name                  description  warehouse_num\n",
       "0  'AB11'        'Toys'       'This is used to play'          12342\n",
       "1  'AB12'      'Phones'       'This is used to play'          24682\n",
       "2  'AB13'  'Chocolates'  'This is used to playliams'          13456\n",
       "3  'AB14'     'Candies'       'This is used to play'          27678\n",
       "4  'AB15'       'Books'       'This is used to play'          24682\n",
       "5  'AB16'        'Pens'       'This is used to play'          12342\n",
       "6  'AB17'    'plastics'       'This is used to play'          12342"
      ]
     },
     "execution_count": 30,
     "metadata": {},
     "output_type": "execute_result"
    }
   ],
   "source": [
    "df = pd.read_csv('data.csv')\n",
    "df"
   ]
  },
  {
   "cell_type": "code",
   "execution_count": 31,
   "metadata": {},
   "outputs": [
    {
     "name": "stdout",
     "output_type": "stream",
     "text": [
      "sku = 'AB11', name =0, description = 'This is used to play', warehouse_num = 12342\n",
      "sku = 'AB12', name =1, description = 'This is used to play', warehouse_num = 24682\n",
      "sku = 'AB13', name =2, description = 'This is used to playliams', warehouse_num = 13456\n",
      "sku = 'AB14', name =3, description = 'This is used to play', warehouse_num = 27678\n",
      "sku = 'AB15', name =4, description = 'This is used to play', warehouse_num = 24682\n",
      "sku = 'AB16', name =5, description = 'This is used to play', warehouse_num = 12342\n",
      "sku = 'AB17', name =6, description = 'This is used to play', warehouse_num = 12342\n"
     ]
    }
   ],
   "source": [
    "for index, row in df.iterrows():\n",
    "    print(f\"sku = {row.sku}, name ={row.name}, description = {row.description}, warehouse_num = {row.warehouse_num}\")"
   ]
  },
  {
   "cell_type": "code",
   "execution_count": 32,
   "metadata": {},
   "outputs": [
    {
     "name": "stdout",
     "output_type": "stream",
     "text": [
      "\n",
      "        INSERT INTO m14.inventory (sku, name, description, warehouse_num)     \n",
      "        VALUES ('AB11', 'Toys', 'This is used to play', 12342);\n",
      "        \n",
      "\n",
      "        INSERT INTO m14.inventory (sku, name, description, warehouse_num)     \n",
      "        VALUES ('AB12', 'Phones', 'This is used to play', 24682);\n",
      "        \n",
      "\n",
      "        INSERT INTO m14.inventory (sku, name, description, warehouse_num)     \n",
      "        VALUES ('AB13', 'Chocolates', 'This is used to playliams', 13456);\n",
      "        \n",
      "\n",
      "        INSERT INTO m14.inventory (sku, name, description, warehouse_num)     \n",
      "        VALUES ('AB14', 'Candies', 'This is used to play', 27678);\n",
      "        \n",
      "\n",
      "        INSERT INTO m14.inventory (sku, name, description, warehouse_num)     \n",
      "        VALUES ('AB15', 'Books', 'This is used to play', 24682);\n",
      "        \n",
      "\n",
      "        INSERT INTO m14.inventory (sku, name, description, warehouse_num)     \n",
      "        VALUES ('AB16', 'Pens', 'This is used to play', 12342);\n",
      "        \n",
      "\n",
      "        INSERT INTO m14.inventory (sku, name, description, warehouse_num)     \n",
      "        VALUES ('AB17', 'plastics', 'This is used to play', 12342);\n",
      "        \n"
     ]
    }
   ],
   "source": [
    "for index, row in df.iterrows():\n",
    "    print(f\"\"\"\n",
    "        INSERT INTO m14.inventory (sku, name, description, warehouse_num)     \n",
    "        VALUES ({row[0]}, {row[1]}, {row[2]}, {row[3]});\n",
    "        \"\"\"\n",
    "       )\n",
    "    session.execute(f\"\"\"\n",
    "        INSERT INTO m14.inventory (sku, name, description, warehouse_num)     \n",
    "        VALUES ({row[0]}, {row[1]}, {row[2]}, {row[3]});\n",
    "        \"\"\"\n",
    "       )"
   ]
  },
  {
   "cell_type": "code",
   "execution_count": 33,
   "metadata": {},
   "outputs": [
    {
     "name": "stdout",
     "output_type": "stream",
     "text": [
      "sku=AB17, name=plastics, description=This is used to play, warehouse_num=12342.0\n",
      "sku=AB15, name=Books, description=This is used to play, warehouse_num=24682.0\n",
      "sku=AB16, name=Pens, description=This is used to play, warehouse_num=12342.0\n",
      "sku=AB11, name=Toys, description=This is used to play, warehouse_num=12342.0\n",
      "sku=AB14, name=Candies, description=This is used to play, warehouse_num=27678.0\n",
      "sku=AB13, name=Chocolates, description=This is used to playliams, warehouse_num=13456.0\n",
      "sku=AB12, name=Phones, description=This is used to play, warehouse_num=24682.0\n"
     ]
    }
   ],
   "source": [
    "rows = session.execute(\"select (sku, name, description, warehouse_num) from m14.inventory\")\n",
    "for row in rows:\n",
    "    print(f\"sku={row[0][0]}, name={row[0][1]}, description={row[0][2]}, warehouse_num={row[0][3]}\")\n"
   ]
  },
  {
   "cell_type": "code",
   "execution_count": 35,
   "metadata": {},
   "outputs": [
    {
     "data": {
      "text/plain": [
       "<cassandra.cluster.ResultSet at 0x7f70342741d0>"
      ]
     },
     "execution_count": 35,
     "metadata": {},
     "output_type": "execute_result"
    }
   ],
   "source": [
    "session.execute(f\"\"\"\n",
    "        CREATE INDEX IF NOT EXISTS inventory_index\n",
    "ON m14.inventory ( warehouse_num );\n",
    "        \"\"\")"
   ]
  },
  {
   "cell_type": "code",
   "execution_count": 37,
   "metadata": {},
   "outputs": [
    {
     "name": "stdout",
     "output_type": "stream",
     "text": [
      "plastics\n",
      "Pens\n",
      "Toys\n"
     ]
    }
   ],
   "source": [
    "rows = session.execute(\"select name from m14.inventory where warehouse_num = 12342\")\n",
    "for row in rows:\n",
    "    print(f\"{row[0]}\")"
   ]
  },
  {
   "cell_type": "code",
   "execution_count": null,
   "metadata": {},
   "outputs": [],
   "source": []
  },
  {
   "cell_type": "code",
   "execution_count": null,
   "metadata": {},
   "outputs": [],
   "source": []
  }
 ],
 "metadata": {
  "kernelspec": {
   "display_name": "bd",
   "language": "python",
   "name": "python3"
  },
  "language_info": {
   "codemirror_mode": {
    "name": "ipython",
    "version": 3
   },
   "file_extension": ".py",
   "mimetype": "text/x-python",
   "name": "python",
   "nbconvert_exporter": "python",
   "pygments_lexer": "ipython3",
   "version": "3.11.5"
  },
  "orig_nbformat": 4
 },
 "nbformat": 4,
 "nbformat_minor": 2
}
